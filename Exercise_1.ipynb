{
  "nbformat": 4,
  "nbformat_minor": 0,
  "metadata": {
    "colab": {
      "provenance": [],
      "authorship_tag": "ABX9TyPf+R4brydGNbhi257Ze45x",
      "include_colab_link": true
    },
    "kernelspec": {
      "name": "python3",
      "display_name": "Python 3"
    },
    "language_info": {
      "name": "python"
    }
  },
  "cells": [
    {
      "cell_type": "markdown",
      "metadata": {
        "id": "view-in-github",
        "colab_type": "text"
      },
      "source": [
        "<a href=\"https://colab.research.google.com/github/Aero-Kent-De-Guzman/DSA-CpE-010-CPE21S4/blob/main/Exercise_1.ipynb\" target=\"_parent\"><img src=\"https://colab.research.google.com/assets/colab-badge.svg\" alt=\"Open In Colab\"/></a>"
      ]
    },
    {
      "cell_type": "code",
      "execution_count": 11,
      "metadata": {
        "id": "W_a1SL_cmb2f",
        "colab": {
          "base_uri": "https://localhost:8080/"
        },
        "outputId": "5cb15c68-bfa7-4b1e-d7e7-9e235a9ef401"
      },
      "outputs": [
        {
          "output_type": "stream",
          "name": "stdout",
          "text": [
            "please insert the length : 5\n",
            "please insert the Width : 5\n",
            "the area is of the rectangle is : 25\n"
          ]
        }
      ],
      "source": [
        "class Rectangle():\n",
        "\n",
        "  def __init__(area, x, y):\n",
        "    area.x = x\n",
        "    area.y = y\n",
        "  def area(area):\n",
        "    return(area.x * area.y)\n",
        "\n",
        "x = int(input('please insert the length : '))\n",
        "y = int(input('please insert the Width : '))\n",
        "\n",
        "n = Rectangle(x,y)\n",
        "print('the area is of the rectangle is :',n.area())"
      ]
    }
  ]
}