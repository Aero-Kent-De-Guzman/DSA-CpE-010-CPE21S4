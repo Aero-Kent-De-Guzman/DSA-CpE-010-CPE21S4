{
  "nbformat": 4,
  "nbformat_minor": 0,
  "metadata": {
    "colab": {
      "provenance": [],
      "authorship_tag": "ABX9TyOcABv0CZPdUgEmjWMsTXNt",
      "include_colab_link": true
    },
    "kernelspec": {
      "name": "python3",
      "display_name": "Python 3"
    },
    "language_info": {
      "name": "python"
    }
  },
  "cells": [
    {
      "cell_type": "markdown",
      "metadata": {
        "id": "view-in-github",
        "colab_type": "text"
      },
      "source": [
        "<a href=\"https://colab.research.google.com/github/Aero-Kent-De-Guzman/DSA-CpE-010-CPE21S4/blob/main/Exercise_2.ipynb\" target=\"_parent\"><img src=\"https://colab.research.google.com/assets/colab-badge.svg\" alt=\"Open In Colab\"/></a>"
      ]
    },
    {
      "cell_type": "code",
      "execution_count": 3,
      "metadata": {
        "id": "ltY_5lla5V-0",
        "colab": {
          "base_uri": "https://localhost:8080/"
        },
        "outputId": "cfbf83fb-020b-4a61-a22c-8d424cf43ca0"
      },
      "outputs": [
        {
          "output_type": "stream",
          "name": "stdout",
          "text": [
            "1 = Rectangle ; 2 = Square ; 3 = Triangle ; 0 = stop \n",
            "1\n",
            "width = 4\n",
            "length = 9\n",
            "The Area of Rectangle is  36.0\n",
            "1 = Rectangle ; 2 = Square ; 3 = Triangle ; 0 = stop \n",
            "2\n",
            "sides = 5\n",
            "The Area of Square is  25.0\n",
            "1 = Rectangle ; 2 = Square ; 3 = Triangle ; 0 = stop \n",
            "3\n",
            "base = 7\n",
            "height = 11\n",
            "The Area of Triangle is  38.5\n",
            "1 = Rectangle ; 2 = Square ; 3 = Triangle ; 0 = stop \n",
            "0\n",
            "Loop Stopped\n"
          ]
        }
      ],
      "source": [
        "class Shapes():\n",
        "  def __init__(self,valOne):\n",
        "    self.valOne = valOne\n",
        "\n",
        "class Rectangle(Shapes):\n",
        "  def __init__ (self,valOne,valTwo):\n",
        "    super().__init__(valOne)\n",
        "    self.valTwo = valTwo\n",
        "\n",
        "  def Area_Rectangle(self):\n",
        "    return(self.valOne * self.valTwo)\n",
        "\n",
        "class Square(Shapes):\n",
        "  pass\n",
        "\n",
        "  def Area_Square(self):\n",
        "    return (self.valOne ** 2)\n",
        "\n",
        "class Triangle(Shapes):\n",
        "  def __init__ (self,valOne,valTwo):\n",
        "    super().__init__(valOne)\n",
        "    self.valTwo = valTwo\n",
        "\n",
        "  def Area_Triangle(self):\n",
        "    return( (self.valOne * self.valTwo) / 2 )\n",
        "\n",
        "n = 1\n",
        "while n != 0:\n",
        "  n = int(input('1 = Rectangle ; 2 = Square ; 3 = Triangle ; 0 = stop \\n'))\n",
        "  if n == 1:\n",
        "    y1 = float(input('width = '))\n",
        "    y2 = float(input('length = '))\n",
        "    y = Rectangle(y1,y2)\n",
        "    print('The Area of Rectangle is ',y.Area_Rectangle())\n",
        "  elif n == 2:\n",
        "    x1 = float(input('sides = '))\n",
        "    x = Square(x1)\n",
        "    print('The Area of Square is ',x.Area_Square())\n",
        "  elif n == 3:\n",
        "    z1 = float(input('base = '))\n",
        "    z2 = float(input('height = '))\n",
        "    z = Triangle(z1,z2)\n",
        "    print('The Area of Triangle is ',z.Area_Triangle())\n",
        "  else:\n",
        "    print('Loop Stopped')\n",
        "    break"
      ]
    }
  ]
}